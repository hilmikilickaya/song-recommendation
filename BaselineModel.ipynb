{
 "cells": [
  {
   "cell_type": "code",
   "execution_count": null,
   "metadata": {},
   "outputs": [],
   "source": [
    "import pandas as pd\n",
    "import numpy as np\n",
    "import re\n",
    "import nltk\n",
    "from nltk.corpus import stopwords\n",
    "from sklearn.feature_extraction.text import CountVectorizer\n",
    "from sklearn.metrics.pairwise import linear_kernel\n",
    "from sklearn.metrics.pairwise import cosine_similarity\n",
    "import matplotlib.pyplot as plt\n",
    "from sklearn.metrics.pairwise import cosine_distances, euclidean_distances\n",
    "from sklearn.decomposition import LatentDirichletAllocation\n",
    "from sklearn.preprocessing import StandardScaler\n",
    "from sklearn.feature_extraction.text import TfidfVectorizer\n",
    "from sklearn.metrics.pairwise import cosine_similarity\n",
    "from sklearn.decomposition import NMF, LatentDirichletAllocation as LDA\n",
    "from nltk.stem import PorterStemmer, WordNetLemmatizer"
   ]
  },
  {
   "cell_type": "markdown",
   "metadata": {},
   "source": [
    "### DATA"
   ]
  },
  {
   "cell_type": "code",
   "execution_count": null,
   "metadata": {},
   "outputs": [],
   "source": [
    "df = pd.read_csv('spotify_songs.csv')\n",
    "df.info()"
   ]
  },
  {
   "cell_type": "code",
   "execution_count": null,
   "metadata": {},
   "outputs": [],
   "source": [
    "df1 = df[df['language'] == 'en']"
   ]
  },
  {
   "cell_type": "code",
   "execution_count": null,
   "metadata": {},
   "outputs": [],
   "source": [
    "df1 = df1.drop_duplicates(subset=['lyrics']).reset_index(drop=True)"
   ]
  },
  {
   "cell_type": "code",
   "execution_count": null,
   "metadata": {},
   "outputs": [],
   "source": [
    "df1['lyrics'] = df1['lyrics'].astype(str)"
   ]
  },
  {
   "cell_type": "markdown",
   "metadata": {},
   "source": [
    "### TFIDF - Cleaning Lyrics"
   ]
  },
  {
   "cell_type": "code",
   "execution_count": null,
   "metadata": {},
   "outputs": [],
   "source": [
    "# Used lemmatizeter\n",
    "wordnet = WordNetLemmatizer()\n",
    "stop_words = stopwords.words(\"english\")\n",
    "stop_words.extend(['oh','yeah','na','ya','us','make','oooo','right','gotta','wo','ong','ou','x5','uhm','em','x8','x2','x4',' gonna',\n",
    "                   'oooooooh','wanna','wooo','go','back','said','come','things','get','one','place','would','like','cause'])\n",
    "# Adding a cleaned column\n",
    "df1['lyrics'] = df1['lyrics'].apply(lambda x: \" \".join([wordnet.lemmatize(i) for i in re.sub(\"[^a-zA-Z^\\n\\d+\\s^\\s+|\\s+?$]\", \" \", x).split() if i not in stop_words]).lower())"
   ]
  },
  {
   "cell_type": "code",
   "execution_count": null,
   "metadata": {},
   "outputs": [],
   "source": [
    "#Tfidf Vectorizer\n",
    "tfidf = TfidfVectorizer(stop_words=stop_words)\n",
    "#tfidf = TfidfVectorizer(stop_words=stop_words, sublinear_tf=True, norm='l2')\n",
    "tfidf_matrix = tfidf.fit_transform(df1['lyrics'])\n",
    "#final_features_arr = final_features.toarray()\n",
    "tfidf_matrix.shape"
   ]
  },
  {
   "cell_type": "markdown",
   "metadata": {},
   "source": [
    "### Recommender"
   ]
  },
  {
   "cell_type": "code",
   "execution_count": null,
   "metadata": {},
   "outputs": [],
   "source": [
    "class SongRecommender:\n",
    "    def __init__(self, matrix):\n",
    "        self.matrix_similar = matrix\n",
    "\n",
    "    def _print_message(self, song, artist, recom_song):\n",
    "        rec_items = len(recom_song)\n",
    "        \n",
    "        print(f'The {rec_items} recommended songs for {song} by {artist} are:')\n",
    "        for i in range(rec_items):\n",
    "            print(f\"Number {i+1}:\")\n",
    "            print(f\"{recom_song[i][1]} by {recom_song[i][2]} with {recom_song[i][0]} similarity score\") \n",
    "            print(\"--------------------\")\n",
    "        \n",
    "    def recommend(self, recommendation):\n",
    "        # Get song to find recommendations for\n",
    "        song = recommendation['track_name']\n",
    "        # Get artist to find recommendations for\n",
    "        artist = recommendation['track_artist']\n",
    "        # Get number of songs to recommend\n",
    "        number_songs = recommendation['number_songs']\n",
    "        # Get the number of songs most similars from matrix similarities\n",
    "        recom_song = self.matrix_similar[song][:number_songs]\n",
    "        # print each item\n",
    "        self._print_message(song=song, artist=artist, recom_song=recom_song)"
   ]
  },
  {
   "cell_type": "markdown",
   "metadata": {},
   "source": [
    "### Recommendations with TFIDF"
   ]
  },
  {
   "cell_type": "code",
   "execution_count": null,
   "metadata": {},
   "outputs": [],
   "source": [
    "cosine_similarities = cosine_similarity(tfidf_matrix)"
   ]
  },
  {
   "cell_type": "code",
   "execution_count": null,
   "metadata": {},
   "outputs": [],
   "source": [
    "similarities = {}"
   ]
  },
  {
   "cell_type": "code",
   "execution_count": null,
   "metadata": {},
   "outputs": [],
   "source": [
    "for i in range(len(cosine_similarities)):\n",
    "    # Now we'll sort each element in cosine_similarities and get the indexes of the songs.\n",
    "    similar_indices = cosine_similarities[i].argsort()[:-50:-1]\n",
    "    # After that, we'll store in similarities each name of the 50 most similar songs.\n",
    "    # Except the first one that is the same song.\n",
    "    similarities[df1['track_name'].iloc[i]] = [(cosine_similarities[i][x], df1['track_name'][x], df1['track_artist'][x]) for x in similar_indices][1:]"
   ]
  },
  {
   "cell_type": "code",
   "execution_count": null,
   "metadata": {},
   "outputs": [],
   "source": [
    "recommedations = SongRecommender(similarities)"
   ]
  },
  {
   "cell_type": "code",
   "execution_count": null,
   "metadata": {},
   "outputs": [],
   "source": [
    "##Lady Gaga - Just dance\n",
    "recommendation = {\n",
    "    \"track_name\": df1['track_name'].iloc[25077],\n",
    "    \"track_artist\" : df1['track_artist'].iloc[2507],\n",
    "    \"number_songs\": 20\n",
    "}\n",
    "\n",
    "##Recommendations \n",
    "recommedations.recommend(recommendation)"
   ]
  },
  {
   "cell_type": "code",
   "execution_count": null,
   "metadata": {},
   "outputs": [],
   "source": [
    "##Coldplay - The Scientist\n",
    "recommendation1 = {\n",
    "    \"track_name\": df1['track_name'].iloc[12313],\n",
    "    \"track_artist\" : df1['track_artist'].iloc[12313],\n",
    "    \"number_songs\": 10\n",
    "}\n",
    "##Recommendations\n",
    "recommedations.recommend(recommendation1)"
   ]
  },
  {
   "cell_type": "markdown",
   "metadata": {},
   "source": [
    "### Recommendations with LDA"
   ]
  },
  {
   "cell_type": "code",
   "execution_count": null,
   "metadata": {},
   "outputs": [],
   "source": [
    "lda = LDA(n_components= 30)"
   ]
  },
  {
   "cell_type": "code",
   "execution_count": null,
   "metadata": {},
   "outputs": [],
   "source": [
    "## Creating the topics\n",
    "topic_values = lda.fit_transform(tfidf_matrix)\n",
    "lda.components_.shape"
   ]
  },
  {
   "cell_type": "code",
   "execution_count": null,
   "metadata": {},
   "outputs": [],
   "source": [
    "##Creating a data frame with topic values\n",
    "topics_df = pd.DataFrame(topic_values)\n",
    "topics_df"
   ]
  },
  {
   "cell_type": "code",
   "execution_count": null,
   "metadata": {},
   "outputs": [],
   "source": [
    "##Joining dataframes\n",
    "df1_wtopics = df1.join(topics_df)\n",
    "df1_wtopics"
   ]
  },
  {
   "cell_type": "code",
   "execution_count": null,
   "metadata": {},
   "outputs": [],
   "source": [
    "## Using topic values to calculate cosine similarities\n",
    "X = df1_wtopics[[0,1,2,3,4,5,6,7,8,9,10,11,12,13,14,15,16,17,18,19,20,21,22,23,24,25,26,27,28,29]]"
   ]
  },
  {
   "cell_type": "code",
   "execution_count": null,
   "metadata": {},
   "outputs": [],
   "source": [
    "cosine_similarities1 = cosine_similarity(X)\n",
    "similarities1 = {}"
   ]
  },
  {
   "cell_type": "code",
   "execution_count": null,
   "metadata": {},
   "outputs": [],
   "source": [
    "for i in range(len(cosine_similarities1)):\n",
    "    # Sort each element in cosine_similarities and get the indexes of the songs. \n",
    "    similar_indices = cosine_similarities1[i].argsort()[:-50:-1] \n",
    "    # After that store in similarities each name of the 50 most similar songs.\n",
    "    # Except the first one that is the same song.\n",
    "    similarities1[df1_wtopics['track_name'].iloc[i]] = [(cosine_similarities1[i][x], df1_wtopics['track_name'][x], df1_wtopics['track_artist'][x]) for x in similar_indices][1:]"
   ]
  },
  {
   "cell_type": "code",
   "execution_count": null,
   "metadata": {},
   "outputs": [],
   "source": [
    "recommedations1 = SongRecommender(similarities1)"
   ]
  },
  {
   "cell_type": "code",
   "execution_count": null,
   "metadata": {},
   "outputs": [],
   "source": [
    "## Lady Gaga - Just Dance\n",
    "recommendation_lda = {\n",
    "    \"track_name\": df1_wtopics['track_name'].iloc[2507],\n",
    "    \"track_artist\": df1_wtopics['track_artist'].iloc[2507],\n",
    "    \"number_songs\": 10\n",
    "}\n",
    "recommedations1.recommend(recommendation_lda)"
   ]
  },
  {
   "cell_type": "code",
   "execution_count": null,
   "metadata": {},
   "outputs": [],
   "source": [
    "## Coldplay - The scientist\n",
    "recommendation_lda1 = {\n",
    "    \"track_name\": df1_wtopics['track_name'].iloc[12313],\n",
    "    \"track_artist\": df1_wtopics['track_artist'].iloc[12313],\n",
    "    \"number_songs\": 10\n",
    "}\n",
    "recommedations1.recommend(recommendation_lda1)"
   ]
  },
  {
   "cell_type": "markdown",
   "metadata": {},
   "source": [
    "### Recommendations with Audio Features"
   ]
  },
  {
   "cell_type": "code",
   "execution_count": null,
   "metadata": {},
   "outputs": [],
   "source": [
    "## Audio Features\n",
    "Audio = df1_wtopics[['danceability', 'energy','key','loudness','mode', 'speechiness','acousticness', 'instrumentalness','liveness','valence','tempo']]"
   ]
  },
  {
   "cell_type": "code",
   "execution_count": null,
   "metadata": {},
   "outputs": [],
   "source": [
    "cosine_similarities_Audio = cosine_similarity(Audio)\n",
    "similarities_Audio = {}"
   ]
  },
  {
   "cell_type": "code",
   "execution_count": null,
   "metadata": {},
   "outputs": [],
   "source": [
    "for i in range(len(cosine_similarities_Audio)):\n",
    "    # Sort each element in cosine_similarities and get the indexes of the songs. \n",
    "    similar_indices = cosine_similarities_Audio[i].argsort()[:-50:-1] \n",
    "    # After that store in similarities each name of the 50 most similar songs.\n",
    "    # Except the first one that is the same song.\n",
    "    similarities_Audio[df1_wtopics['track_name'].iloc[i]] = [(cosine_similarities_Audio[i][x], df1_wtopics['track_name'][x], df1_wtopics['track_artist'][x]) for x in similar_indices][1:]"
   ]
  },
  {
   "cell_type": "code",
   "execution_count": null,
   "metadata": {},
   "outputs": [],
   "source": [
    "recommedations_Audio = SongRecommender(similarities_Audio)"
   ]
  },
  {
   "cell_type": "code",
   "execution_count": null,
   "metadata": {},
   "outputs": [],
   "source": [
    "## Lady Gaga - Just Dance\n",
    "recommendation_Audio = {\n",
    "    \"track_name\": df1_wtopics['track_name'].iloc[2507],\n",
    "    \"track_artist\": df1_wtopics['track_artist'].iloc[2507],\n",
    "    \"number_songs\": 10\n",
    "}\n",
    "recommedations_Audio.recommend(recommendation_Audio)"
   ]
  },
  {
   "cell_type": "code",
   "execution_count": null,
   "metadata": {},
   "outputs": [],
   "source": [
    "## Coldplay - The Scientist\n",
    "recommendation_Audio1 = {\n",
    "    \"track_name\": df1_wtopics['track_name'].iloc[12313],\n",
    "    \"track_artist\": df1_wtopics['track_artist'].iloc[12313],\n",
    "    \"number_songs\": 10\n",
    "}\n",
    "recommedations_Audio.recommend(recommendation_Audio1)"
   ]
  },
  {
   "cell_type": "markdown",
   "metadata": {},
   "source": [
    "### Recommendations with Audio Features and LDA "
   ]
  },
  {
   "cell_type": "code",
   "execution_count": null,
   "metadata": {},
   "outputs": [],
   "source": [
    "A_wlyrics = df1_wtopics[['danceability', 'energy','key','loudness','mode', 'speechiness','acousticness', 'instrumentalness','liveness','valence','tempo',0,1,2,3,4,5,6,7,8,9,10,11,12,13,14,15,16,17,18,19,20,21,22,23,24,25,26,27,28,29]]"
   ]
  },
  {
   "cell_type": "code",
   "execution_count": null,
   "metadata": {},
   "outputs": [],
   "source": [
    "cosine_similarities_A_wlyrics = cosine_similarity(A_wlyrics)\n",
    "similarities_A_wlyrics = {}"
   ]
  },
  {
   "cell_type": "code",
   "execution_count": null,
   "metadata": {},
   "outputs": [],
   "source": [
    "for i in range(len(cosine_similarities_A_wlyrics)):\n",
    "    # Sort each element in cosine_similarities and get the indexes of the songs. \n",
    "    similar_indices = cosine_similarities_A_wlyrics[i].argsort()[:-50:-1] \n",
    "    # After that store in similarities each name of the 50 most similar songs.\n",
    "    # Except the first one that is the same song.\n",
    "    similarities_A_wlyrics[df1_wtopics['track_name'].iloc[i]] = [(cosine_similarities_A_wlyrics[i][x], df1_wtopics['track_name'][x], df1_wtopics['track_artist'][x]) for x in similar_indices][1:]"
   ]
  },
  {
   "cell_type": "code",
   "execution_count": null,
   "metadata": {},
   "outputs": [],
   "source": [
    "recommedations_A_wlyrics = SongRecommender(similarities_A_wlyrics)"
   ]
  },
  {
   "cell_type": "code",
   "execution_count": null,
   "metadata": {},
   "outputs": [],
   "source": [
    "## Lady Gaga - Just Dance\n",
    "recommendation_A_wlyrics = {\n",
    "    \"track_name\": df1_wtopics['track_name'].iloc[2507],\n",
    "    \"track_artist\": df1_wtopics['track_artist'].iloc[2507],\n",
    "    \"number_songs\": 10\n",
    "}\n",
    "recommedations_A_wlyrics.recommend(recommendation_A_wlyrics)"
   ]
  },
  {
   "cell_type": "code",
   "execution_count": null,
   "metadata": {},
   "outputs": [],
   "source": [
    "## Coldplay - The Scientist\n",
    "recommendation_A_wlyrics1 = {\n",
    "    \"track_name\": df1_wtopics['track_name'].iloc[12313],\n",
    "    \"track_artist\": df1_wtopics['track_artist'].iloc[12313],\n",
    "    \"number_songs\": 10\n",
    "}\n",
    "recommedations_A_wlyrics.recommend(recommendation_A_wlyrics1)"
   ]
  }
 ],
 "metadata": {
  "kernelspec": {
   "display_name": "Python 3",
   "language": "python",
   "name": "python3"
  },
  "language_info": {
   "codemirror_mode": {
    "name": "ipython",
    "version": 3
   },
   "file_extension": ".py",
   "mimetype": "text/x-python",
   "name": "python",
   "nbconvert_exporter": "python",
   "pygments_lexer": "ipython3",
   "version": "3.7.9"
  }
 },
 "nbformat": 4,
 "nbformat_minor": 4
}
